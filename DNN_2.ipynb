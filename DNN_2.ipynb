{
  "cells": [
    {
      "cell_type": "markdown",
      "metadata": {},
      "source": [
        "Kamil Pieprzycki"
      ]
    },
    {
      "cell_type": "code",
      "execution_count": null,
      "metadata": {
        "id": "xeFoiqTo0Cld"
      },
      "outputs": [],
      "source": [
        "import keras\n",
        "import numpy as np\n"
      ]
    },
    {
      "cell_type": "code",
      "execution_count": null,
      "metadata": {
        "colab": {
          "base_uri": "https://localhost:8080/"
        },
        "id": "YaC_oguQ0OuP",
        "outputId": "91ef3d8e-7c14-4f0f-827a-488aa5eeed26"
      },
      "outputs": [
        {
          "name": "stdout",
          "output_type": "stream",
          "text": [
            "Downloading data from https://storage.googleapis.com/tensorflow/tf-keras-datasets/imdb.npz\n",
            "17464789/17464789 [==============================] - 0s 0us/step\n"
          ]
        }
      ],
      "source": [
        "from tensorflow.keras.datasets import imdb\n",
        "\n",
        "(train_data, train_labels), (test_data, test_labels) = imdb.load_data(num_words=10000)"
      ]
    },
    {
      "cell_type": "markdown",
      "metadata": {
        "id": "OueiWAaP2qHl"
      },
      "source": [
        "Task 1 Please check the number of training and testing example.\n",
        "\n",
        "\n"
      ]
    },
    {
      "cell_type": "code",
      "execution_count": null,
      "metadata": {
        "colab": {
          "base_uri": "https://localhost:8080/"
        },
        "id": "xc0N5I0a0Y3g",
        "outputId": "af4d8c50-3be2-4c30-e16b-cdc15e87826e"
      },
      "outputs": [
        {
          "name": "stdout",
          "output_type": "stream",
          "text": [
            "Train images count: 25000\n",
            "Test images count: 25000\n"
          ]
        }
      ],
      "source": [
        "print (f\"Train images count: {len(train_data)}\")\n",
        "print (f\"Test images count: {len(test_data)}\")\n"
      ]
    },
    {
      "cell_type": "code",
      "execution_count": null,
      "metadata": {
        "colab": {
          "base_uri": "https://localhost:8080/"
        },
        "id": "2F6JXJR61XE7",
        "outputId": "86c08016-26ba-4f6f-f832-bfb71ceeb799"
      },
      "outputs": [
        {
          "data": {
            "text/plain": [
              "(25000, 10000)"
            ]
          },
          "execution_count": 4,
          "metadata": {},
          "output_type": "execute_result"
        }
      ],
      "source": [
        "import numpy as np\n",
        "\n",
        "def vectorize_sequences(sequences, dimension=10000):\n",
        "    results = np.zeros((len(sequences), dimension))  # Create an all-zero matrix of shape (len(sequences), dimension)\n",
        "    for i, sequence in enumerate(sequences):\n",
        "        results[i, sequence] = 1.  # set specific indices of results[i] to 1s\n",
        "    return results\n",
        "\n",
        "x_train = vectorize_sequences(train_data)\n",
        "x_test = vectorize_sequences(test_data)\n",
        "y_train = np.asarray(train_labels).astype('float32')\n",
        "y_test = np.asarray(test_labels).astype('float32')\n",
        "\n",
        "\n",
        "x_test.shape"
      ]
    },
    {
      "cell_type": "code",
      "execution_count": null,
      "metadata": {
        "colab": {
          "base_uri": "https://localhost:8080/"
        },
        "id": "0kT7zVGJ1kEF",
        "outputId": "8f4f8837-f838-4e6e-f597-6d96e7377895"
      },
      "outputs": [
        {
          "name": "stdout",
          "output_type": "stream",
          "text": [
            "Train labels count: 25000\n",
            "Test labels count: 25000\n"
          ]
        }
      ],
      "source": [
        "print (f\"Train labels count: {len(train_labels)}\")\n",
        "print (f\"Test labels count: {len(test_data)}\")\n"
      ]
    },
    {
      "cell_type": "code",
      "execution_count": null,
      "metadata": {
        "id": "wgpE4PBS1_oY"
      },
      "outputs": [],
      "source": [
        "from keras import models\n",
        "from keras import layers\n",
        "\n",
        "input_shape_ = (x_test.shape[1],)\n",
        "\n",
        "network = models.Sequential()\n",
        "network.add(layers.Dense(16, activation='relu', input_shape=input_shape_))\n",
        "network.add(layers.Dense(16, activation='relu'))\n",
        "network.add(layers.Dense(1, activation='sigmoid'))"
      ]
    },
    {
      "cell_type": "markdown",
      "metadata": {
        "id": "Y0oHIH7D2x5V"
      },
      "source": [
        "\n",
        "\n"
      ]
    },
    {
      "cell_type": "code",
      "execution_count": null,
      "metadata": {
        "id": "5TNsBJ0z3yQM"
      },
      "outputs": [],
      "source": [
        "network.compile(optimizer='rmsprop',\n",
        "                loss='binary_crossentropy',\n",
        "                metrics=['accuracy'])"
      ]
    },
    {
      "cell_type": "code",
      "execution_count": null,
      "metadata": {
        "colab": {
          "base_uri": "https://localhost:8080/"
        },
        "id": "BgjvQaWF6jAr",
        "outputId": "74dc19f0-3d3b-471b-a07b-9c9de7ba10f2"
      },
      "outputs": [
        {
          "name": "stdout",
          "output_type": "stream",
          "text": [
            "(10000, 10000)\n",
            "(15000, 10000)\n",
            "(10000,)\n",
            "(15000,)\n"
          ]
        }
      ],
      "source": [
        "from sklearn.model_selection import train_test_split\n",
        "\n",
        "\n",
        "X_validate, X_test, Y_validate, Y_test = train_test_split(x_test, y_test, test_size = 0.6)\n",
        "X_train = x_train\n",
        "Y_train = y_train\n",
        "print(X_validate.shape)\n",
        "\n",
        "print(X_test.shape)\n",
        "\n",
        "print(Y_validate.shape)\n",
        "\n",
        "print(Y_test.shape)"
      ]
    },
    {
      "cell_type": "code",
      "execution_count": null,
      "metadata": {
        "colab": {
          "base_uri": "https://localhost:8080/"
        },
        "id": "WYNLin4L7I5d",
        "outputId": "f9329adc-45ff-4157-f996-79a788f6e856"
      },
      "outputs": [
        {
          "name": "stdout",
          "output_type": "stream",
          "text": [
            "Epoch 1/20\n",
            "49/49 [==============================] - 4s 71ms/step - loss: 0.4631 - accuracy: 0.8121 - val_loss: 0.3406 - val_accuracy: 0.8796\n",
            "Epoch 2/20\n",
            "49/49 [==============================] - 2s 47ms/step - loss: 0.2726 - accuracy: 0.9040 - val_loss: 0.2870 - val_accuracy: 0.8906\n",
            "Epoch 3/20\n",
            "49/49 [==============================] - 2s 31ms/step - loss: 0.2129 - accuracy: 0.9240 - val_loss: 0.2823 - val_accuracy: 0.8876\n",
            "Epoch 4/20\n",
            "49/49 [==============================] - 1s 30ms/step - loss: 0.1834 - accuracy: 0.9335 - val_loss: 0.2934 - val_accuracy: 0.8832\n",
            "Epoch 5/20\n",
            "49/49 [==============================] - 2s 39ms/step - loss: 0.1594 - accuracy: 0.9431 - val_loss: 0.3325 - val_accuracy: 0.8719\n",
            "Epoch 6/20\n",
            "49/49 [==============================] - 1s 30ms/step - loss: 0.1423 - accuracy: 0.9506 - val_loss: 0.3263 - val_accuracy: 0.8749\n",
            "Epoch 7/20\n",
            "49/49 [==============================] - 2s 39ms/step - loss: 0.1302 - accuracy: 0.9560 - val_loss: 0.3379 - val_accuracy: 0.8730\n",
            "Epoch 8/20\n",
            "49/49 [==============================] - 3s 54ms/step - loss: 0.1162 - accuracy: 0.9606 - val_loss: 0.3644 - val_accuracy: 0.8681\n",
            "Epoch 9/20\n",
            "49/49 [==============================] - 2s 37ms/step - loss: 0.1061 - accuracy: 0.9638 - val_loss: 0.3819 - val_accuracy: 0.8682\n",
            "Epoch 10/20\n",
            "49/49 [==============================] - 2s 47ms/step - loss: 0.0954 - accuracy: 0.9684 - val_loss: 0.4006 - val_accuracy: 0.8670\n",
            "Epoch 11/20\n",
            "49/49 [==============================] - 2s 47ms/step - loss: 0.0872 - accuracy: 0.9719 - val_loss: 0.4270 - val_accuracy: 0.8631\n",
            "Epoch 12/20\n",
            "49/49 [==============================] - 3s 58ms/step - loss: 0.0796 - accuracy: 0.9738 - val_loss: 0.4420 - val_accuracy: 0.8628\n",
            "Epoch 13/20\n",
            "49/49 [==============================] - 3s 64ms/step - loss: 0.0720 - accuracy: 0.9763 - val_loss: 0.4682 - val_accuracy: 0.8626\n",
            "Epoch 14/20\n",
            "49/49 [==============================] - 3s 56ms/step - loss: 0.0667 - accuracy: 0.9786 - val_loss: 0.4834 - val_accuracy: 0.8613\n",
            "Epoch 15/20\n",
            "49/49 [==============================] - 2s 47ms/step - loss: 0.0556 - accuracy: 0.9840 - val_loss: 0.5122 - val_accuracy: 0.8586\n",
            "Epoch 16/20\n",
            "49/49 [==============================] - 3s 51ms/step - loss: 0.0537 - accuracy: 0.9839 - val_loss: 0.5397 - val_accuracy: 0.8558\n",
            "Epoch 17/20\n",
            "49/49 [==============================] - 1s 30ms/step - loss: 0.0463 - accuracy: 0.9871 - val_loss: 0.6579 - val_accuracy: 0.8407\n",
            "Epoch 18/20\n",
            "49/49 [==============================] - 2s 34ms/step - loss: 0.0442 - accuracy: 0.9878 - val_loss: 0.5895 - val_accuracy: 0.8548\n",
            "Epoch 19/20\n",
            "49/49 [==============================] - 3s 57ms/step - loss: 0.0400 - accuracy: 0.9889 - val_loss: 0.6197 - val_accuracy: 0.8527\n",
            "Epoch 20/20\n",
            "49/49 [==============================] - 2s 32ms/step - loss: 0.0352 - accuracy: 0.9903 - val_loss: 0.6586 - val_accuracy: 0.8479\n"
          ]
        }
      ],
      "source": [
        "mama = network.fit(x=X_train, y=Y_train, epochs= 20, batch_size=512, validation_data=(X_validate, Y_validate))"
      ]
    },
    {
      "cell_type": "code",
      "execution_count": null,
      "metadata": {
        "colab": {
          "base_uri": "https://localhost:8080/"
        },
        "id": "QtumJfYP7gPO",
        "outputId": "8dafd2b5-33a0-49f4-b6f5-8de70f992d1c"
      },
      "outputs": [
        {
          "name": "stdout",
          "output_type": "stream",
          "text": [
            "Model: \"sequential\"\n",
            "_________________________________________________________________\n",
            " Layer (type)                Output Shape              Param #   \n",
            "=================================================================\n",
            " dense (Dense)               (None, 16)                160016    \n",
            "                                                                 \n",
            " dense_1 (Dense)             (None, 16)                272       \n",
            "                                                                 \n",
            " dense_2 (Dense)             (None, 1)                 17        \n",
            "                                                                 \n",
            "=================================================================\n",
            "Total params: 160305 (626.19 KB)\n",
            "Trainable params: 160305 (626.19 KB)\n",
            "Non-trainable params: 0 (0.00 Byte)\n",
            "_________________________________________________________________\n"
          ]
        }
      ],
      "source": [
        "network.summary()"
      ]
    },
    {
      "cell_type": "code",
      "execution_count": null,
      "metadata": {
        "colab": {
          "base_uri": "https://localhost:8080/"
        },
        "id": "NFU0sPfn-5bb",
        "outputId": "d0355860-5e13-44c7-fd2f-9887efeea243"
      },
      "outputs": [
        {
          "data": {
            "text/plain": [
              "dict_keys(['loss', 'accuracy', 'val_loss', 'val_accuracy'])"
            ]
          },
          "execution_count": 11,
          "metadata": {},
          "output_type": "execute_result"
        }
      ],
      "source": [
        "net_dict=mama.history\n",
        "net_dict.keys()"
      ]
    },
    {
      "cell_type": "code",
      "execution_count": null,
      "metadata": {
        "id": "DHJLmpkI7nic"
      },
      "outputs": [],
      "source": [
        "import matplotlib.pyplot as plt\n",
        "\n",
        "def plot_net(mama):\n",
        "  plot_dict_loss= ['loss','val_loss']\n",
        "  plot_dict_acc= ['accuracy','val_accuracy']\n",
        "\n",
        "  test= plot_dict_loss[0]\n",
        "  epochs_num = len(mama.history[test])\n",
        "  epochs_list =[x for x in range(1,epochs_num+1)]\n",
        "\n",
        "  fig, axs = plt.subplots(1,2,figsize=(10,5))\n",
        "  for elem in plot_dict_loss:\n",
        "    axs[0].plot(epochs_list, mama.history[elem],label=elem)\n",
        "  for elem in plot_dict_acc:\n",
        "    axs[1].plot(epochs_list, mama.history[elem],label=elem)\n",
        "\n",
        "\n",
        "  axs[0].set_xlabel('Epoch')\n",
        "  axs[0].set_ylabel('Loss')\n",
        "  axs[0].legend()\n",
        "\n",
        "\n",
        "  axs[1].set_xlabel('Epoch')\n",
        "  axs[1].set_ylabel('Loss')\n",
        "  axs[1].legend()"
      ]
    },
    {
      "cell_type": "code",
      "execution_count": null,
      "metadata": {
        "colab": {
          "base_uri": "https://localhost:8080/",
          "height": 380
        },
        "id": "M_IiofdtA-ix",
        "outputId": "cbe30c30-0de3-4824-a1a3-a0cc3e4940ae"
      },
      "outputs": [
        {
          "data": {
            "image/png": "[encoded data removed]",
            "text/plain": [
              "<Figure size 1000x500 with 2 Axes>"
            ]
          },
          "metadata": {},
          "output_type": "display_data"
        }
      ],
      "source": [
        "plot_net(mama)"
      ]
    }
  ],
  "metadata": {
    "colab": {
      "provenance": []
    },
    "kernelspec": {
      "display_name": "Python 3",
      "name": "python3"
    },
    "language_info": {
      "name": "python"
    }
  },
  "nbformat": 4,
  "nbformat_minor": 0
}
